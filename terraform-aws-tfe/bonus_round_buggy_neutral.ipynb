{
 "cells": [
  {
   "cell_type": "markdown",
   "id": "51604fd9",
   "metadata": {},
   "source": [
    "# Bonus Round: Exercises\n",
    "Debug the following advanced snippets."
   ]
  },
  {
   "cell_type": "markdown",
   "id": "7f40055b",
   "metadata": {},
   "source": [
    "## Exercise 1"
   ]
  },
  {
   "cell_type": "code",
   "execution_count": null,
   "id": "1bafebe9",
   "metadata": {},
   "outputs": [],
   "source": [
    "def read_config(path):\n",
    "    f = open(path)            # file may leak if parse() raises\n",
    "    data = parse(f.read())    # assume parse may raise NameError here\n",
    "    f.close()\n",
    "    return data\n",
    "\n",
    "# Run to see the problem (parse is undefined, and file isn't closed safely)\n",
    "try:\n",
    "    read_config(\"config.txt\")\n",
    "except Exception as e:\n",
    "    print(type(e).__name__, e)"
   ]
  },
  {
   "cell_type": "markdown",
   "id": "0edf026e",
   "metadata": {},
   "source": [
    "## Exercise 2"
   ]
  },
  {
   "cell_type": "code",
   "execution_count": null,
   "id": "4bcef49b",
   "metadata": {},
   "outputs": [],
   "source": [
    "import csv\n",
    "\n",
    "def save_rows(path, rows):\n",
    "    f = open(path, \"w\")  # missing newline and encoding and context manager\n",
    "    writer = csv.writer(f)\n",
    "    for r in rows:\n",
    "        writer.writerow(r)\n",
    "    f.close()\n",
    "\n",
    "save_rows(\"out.csv\", [[\"naïve\", \"café\"], [\"a\", \"b\"]])\n",
    "print(\"Wrote out.csv — check for blank lines on Windows and encoding issues.\")"
   ]
  },
  {
   "cell_type": "markdown",
   "id": "6aff072d",
   "metadata": {},
   "source": [
    "## Exercise 3"
   ]
  },
  {
   "cell_type": "code",
   "execution_count": null,
   "id": "325b9796",
   "metadata": {},
   "outputs": [],
   "source": [
    "import asyncio, time\n",
    "\n",
    "async def fetch(i):\n",
    "    time.sleep(0.1)  # blocks event loop\n",
    "    return i\n",
    "\n",
    "async def main():\n",
    "    tasks = [fetch(i) for i in range(5)]\n",
    "    results = asyncio.gather(*tasks)  # not awaited\n",
    "    print(\"Finished? (but tasks may not have run)\")\n",
    "    return results\n",
    "\n",
    "try:\n",
    "    asyncio.run(main())\n",
    "except Exception as e:\n",
    "    print(type(e).__name__, e)"
   ]
  },
  {
   "cell_type": "markdown",
   "id": "f822cb62",
   "metadata": {},
   "source": [
    "## Exercise 4"
   ]
  },
  {
   "cell_type": "code",
   "execution_count": null,
   "id": "69bf891a",
   "metadata": {},
   "outputs": [],
   "source": [
    "import threading\n",
    "\n",
    "counter = 0\n",
    "\n",
    "def work(n):\n",
    "    global counter\n",
    "    for _ in range(n):\n",
    "        counter += 1  # data race\n",
    "\n",
    "threads = [threading.Thread(target=work, args=(100_000,)) for _ in range(4)]\n",
    "for t in threads: t.start()\n",
    "for t in threads: t.join()\n",
    "print(\"Final counter:\", counter, \"Expected:\", 400_000)"
   ]
  },
  {
   "cell_type": "markdown",
   "id": "4dd4b6c0",
   "metadata": {},
   "source": [
    "## Exercise 5"
   ]
  },
  {
   "cell_type": "code",
   "execution_count": null,
   "id": "b827b9fd",
   "metadata": {},
   "outputs": [],
   "source": [
    "import sqlite3\n",
    "conn = sqlite3.connect(\":memory:\")\n",
    "cur = conn.cursor()\n",
    "cur.execute(\"CREATE TABLE users (id INT, name TEXT)\")\n",
    "cur.execute(\"INSERT INTO users VALUES (1, 'O\\'Malley')\")\n",
    "\n",
    "username = \"O'Malley\"\n",
    "query = f\"SELECT id, name FROM users WHERE name = '{username}'\"\n",
    "print(\"Running:\", query)  # will break on quotes and is injectable\n",
    "try:\n",
    "    cur.execute(query)\n",
    "    print(cur.fetchone())\n",
    "except Exception as e:\n",
    "    print(type(e).__name__, e)"
   ]
  },
  {
   "cell_type": "markdown",
   "id": "3f74b6d1",
   "metadata": {},
   "source": [
    "## Exercise 6"
   ]
  },
  {
   "cell_type": "code",
   "execution_count": null,
   "id": "894a3efb",
   "metadata": {},
   "outputs": [],
   "source": [
    "from datetime import datetime, timedelta\n",
    "\n",
    "start = datetime.now()              # naive\n",
    "end = start + timedelta(hours=24)\n",
    "print(\"Seconds diff:\", (end - start).total_seconds())  # assume 86400; may be wrong over DST"
   ]
  },
  {
   "cell_type": "markdown",
   "id": "d355b2f0",
   "metadata": {},
   "source": [
    "## Exercise 7"
   ]
  },
  {
   "cell_type": "code",
   "execution_count": null,
   "id": "6e9d9aad",
   "metadata": {},
   "outputs": [],
   "source": [
    "def process(lines_iter):\n",
    "    return [s.strip() for s in lines_iter if s.strip()]\n",
    "\n",
    "data = iter([\"a\\n\", \"\\n\", \"b\\n\"])\n",
    "first = process(data)\n",
    "second = process(data)  # empty: iterator already consumed\n",
    "print(\"first:\", first, \"second:\", second)"
   ]
  },
  {
   "cell_type": "markdown",
   "id": "e9f38780",
   "metadata": {},
   "source": [
    "## Exercise 8"
   ]
  },
  {
   "cell_type": "code",
   "execution_count": null,
   "id": "31ccb3af",
   "metadata": {},
   "outputs": [],
   "source": [
    "from dataclasses import dataclass\n",
    "\n",
    "@dataclass\n",
    "class Cart:\n",
    "    items: list = []   # shared across instances\n",
    "\n",
    "c1 = Cart()\n",
    "c2 = Cart()\n",
    "c1.items.append(\"x\")\n",
    "print(\"c2.items:\", c2.items)  # unexpected shared list"
   ]
  },
  {
   "cell_type": "markdown",
   "id": "3800bb01",
   "metadata": {},
   "source": [
    "## Exercise 9"
   ]
  },
  {
   "cell_type": "code",
   "execution_count": null,
   "id": "053413f3",
   "metadata": {},
   "outputs": [],
   "source": [
    "import os, logging\n",
    "API_KEY = \"sk_live_example_secret_value\"  # pretend secret\n",
    "\n",
    "def charge(amount_pennies):\n",
    "    try:\n",
    "        raise TimeoutError(\"simulated\")\n",
    "    except Exception as e:\n",
    "        logging.error(\"Charge failed for key=%s amount=%s err=%r\", API_KEY, amount_pennies, e)\n",
    "        return False\n",
    "\n",
    "print(\"Result:\", charge(1234))"
   ]
  }
 ],
 "metadata": {},
 "nbformat": 4,
 "nbformat_minor": 5
}
