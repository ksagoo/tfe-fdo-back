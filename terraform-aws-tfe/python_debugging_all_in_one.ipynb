{
 "cells": [
  {
   "cell_type": "markdown",
   "id": "426aac0c",
   "metadata": {},
   "source": [
    "# Python Debugging Interview — All-in-One\n",
    "Part 1: Exercises (buggy, neutral headers)\n",
    "Part 2: Solutions (for interviewer reference)\n",
    "\n",
    "**Instructions:** Run each exercise cell to see the error or incorrect behavior, then debug and fix it. Do not scroll to Part 2 until review time."
   ]
  },
  {
   "cell_type": "markdown",
   "id": "e4a99c2a",
   "metadata": {},
   "source": [
    "## Part 1: Exercises — Warm-up"
   ]
  },
  {
   "cell_type": "markdown",
   "id": "768c1dd9",
   "metadata": {},
   "source": [
    "### Exercise 1"
   ]
  },
  {
   "cell_type": "code",
   "execution_count": null,
   "id": "6b50f08c",
   "metadata": {},
   "outputs": [],
   "source": [
    "def greet(name):\n",
    "print(\"Hello,\", name)   # <- indentation issue\n",
    "\n",
    "greet(\"Ada\")"
   ]
  },
  {
   "cell_type": "markdown",
   "id": "b5be3448",
   "metadata": {},
   "source": [
    "### Exercise 2"
   ]
  },
  {
   "cell_type": "code",
   "execution_count": null,
   "id": "e944eb83",
   "metadata": {},
   "outputs": [],
   "source": [
    "def add_numbers(a, b):\n",
    "    return a + c   # <- undefined variable\n",
    "\n",
    "print(add_numbers(2, 3))"
   ]
  },
  {
   "cell_type": "markdown",
   "id": "049d0ef1",
   "metadata": {},
   "source": [
    "### Exercise 3"
   ]
  },
  {
   "cell_type": "code",
   "execution_count": null,
   "id": "bb9bb12c",
   "metadata": {},
   "outputs": [],
   "source": [
    "age = \"25\"\n",
    "print(age + 5)   # <- type mismatch"
   ]
  },
  {
   "cell_type": "markdown",
   "id": "7a5cb3f6",
   "metadata": {},
   "source": [
    "### Exercise 4"
   ]
  },
  {
   "cell_type": "code",
   "execution_count": null,
   "id": "f865d03f",
   "metadata": {},
   "outputs": [],
   "source": [
    "def is_even(n):\n",
    "    return n % 2 == 1   # <- logic bug\n",
    "\n",
    "print(\"2 is even?\", is_even(2))\n",
    "print(\"3 is even?\", is_even(3))"
   ]
  },
  {
   "cell_type": "markdown",
   "id": "7d278247",
   "metadata": {},
   "source": [
    "### Exercise 5"
   ]
  },
  {
   "cell_type": "code",
   "execution_count": null,
   "id": "ca2162f4",
   "metadata": {},
   "outputs": [],
   "source": [
    "def append_item(item, items=[]):\n",
    "    items.append(item)\n",
    "    return items\n",
    "\n",
    "print(\"First call:\", append_item(\"a\"))\n",
    "print(\"Second call:\", append_item(\"b\"))  # <- shared list surprise"
   ]
  },
  {
   "cell_type": "markdown",
   "id": "907a15f9",
   "metadata": {},
   "source": [
    "## Part 1: Exercises — Bonus"
   ]
  },
  {
   "cell_type": "markdown",
   "id": "f5a8aa99",
   "metadata": {},
   "source": [
    "### Exercise 6"
   ]
  },
  {
   "cell_type": "code",
   "execution_count": null,
   "id": "4cf6a5d8",
   "metadata": {},
   "outputs": [],
   "source": [
    "def read_config(path):\n",
    "    f = open(path)            # may leak if parse() raises\n",
    "    data = parse(f.read())    # parse is undefined here\n",
    "    f.close()\n",
    "    return data\n",
    "\n",
    "try:\n",
    "    read_config(\"config.txt\")\n",
    "except Exception as e:\n",
    "    print(type(e).__name__, e)"
   ]
  },
  {
   "cell_type": "markdown",
   "id": "c70d81eb",
   "metadata": {},
   "source": [
    "### Exercise 7"
   ]
  },
  {
   "cell_type": "code",
   "execution_count": null,
   "id": "8ec213d6",
   "metadata": {},
   "outputs": [],
   "source": [
    "import csv\n",
    "\n",
    "def save_rows(path, rows):\n",
    "    f = open(path, \"w\")  # missing newline/encoding/context manager\n",
    "    writer = csv.writer(f)\n",
    "    for r in rows:\n",
    "        writer.writerow(r)\n",
    "    f.close()\n",
    "\n",
    "save_rows(\"out.csv\", [[\"naïve\", \"café\"], [\"a\", \"b\"]])\n",
    "print(\"Wrote out.csv — check for blank lines/encoding issues.\")"
   ]
  },
  {
   "cell_type": "markdown",
   "id": "a1a27abf",
   "metadata": {},
   "source": [
    "### Exercise 8"
   ]
  },
  {
   "cell_type": "code",
   "execution_count": null,
   "id": "f5c5686a",
   "metadata": {},
   "outputs": [],
   "source": [
    "import asyncio, time\n",
    "\n",
    "async def fetch(i):\n",
    "    time.sleep(0.1)  # blocks event loop\n",
    "    return i\n",
    "\n",
    "async def main():\n",
    "    tasks = [fetch(i) for i in range(5)]\n",
    "    results = asyncio.gather(*tasks)  # not awaited\n",
    "    print(\"Finished? (tasks may not have run)\")\n",
    "    return results\n",
    "\n",
    "try:\n",
    "    asyncio.run(main())\n",
    "except Exception as e:\n",
    "    print(type(e).__name__, e)"
   ]
  },
  {
   "cell_type": "markdown",
   "id": "43e8a7d9",
   "metadata": {},
   "source": [
    "### Exercise 9"
   ]
  },
  {
   "cell_type": "code",
   "execution_count": null,
   "id": "13534ed8",
   "metadata": {},
   "outputs": [],
   "source": [
    "import threading\n",
    "\n",
    "counter = 0\n",
    "\n",
    "def work(n):\n",
    "    global counter\n",
    "    for _ in range(n):\n",
    "        counter += 1  # data race\n",
    "\n",
    "threads = [threading.Thread(target=work, args=(100_000,)) for _ in range(4)]\n",
    "for t in threads: t.start()\n",
    "for t in threads: t.join()\n",
    "print(\"Final counter:\", counter, \"Expected:\", 400_000)"
   ]
  },
  {
   "cell_type": "markdown",
   "id": "f8d2200b",
   "metadata": {},
   "source": [
    "### Exercise 10"
   ]
  },
  {
   "cell_type": "code",
   "execution_count": null,
   "id": "3ff51b16",
   "metadata": {},
   "outputs": [],
   "source": [
    "import sqlite3\n",
    "conn = sqlite3.connect(\":memory:\")\n",
    "cur = conn.cursor()\n",
    "cur.execute(\"CREATE TABLE users (id INT, name TEXT)\")\n",
    "cur.execute(\"INSERT INTO users VALUES (1, 'O\\'Malley')\")\n",
    "\n",
    "username = \"O'Malley\"\n",
    "query = f\"SELECT id, name FROM users WHERE name = '{username}'\"\n",
    "print(\"Running:\", query)  # breaks on quotes and is injectable\n",
    "try:\n",
    "    cur.execute(query)\n",
    "    print(cur.fetchone())\n",
    "except Exception as e:\n",
    "    print(type(e).__name__, e)"
   ]
  },
  {
   "cell_type": "markdown",
   "id": "01d6bfbb",
   "metadata": {},
   "source": [
    "### Exercise 11"
   ]
  },
  {
   "cell_type": "code",
   "execution_count": null,
   "id": "86a2d8df",
   "metadata": {},
   "outputs": [],
   "source": [
    "from datetime import datetime, timedelta\n",
    "\n",
    "start = datetime.now()              # naive\n",
    "end = start + timedelta(hours=24)\n",
    "print(\"Seconds diff:\", (end - start).total_seconds())  # assumes 86400"
   ]
  },
  {
   "cell_type": "markdown",
   "id": "71f0666c",
   "metadata": {},
   "source": [
    "### Exercise 12"
   ]
  },
  {
   "cell_type": "code",
   "execution_count": null,
   "id": "b72d7e2f",
   "metadata": {},
   "outputs": [],
   "source": [
    "def process(lines_iter):\n",
    "    return [s.strip() for s in lines_iter if s.strip()]\n",
    "\n",
    "data = iter([\"a\\n\", \"\\n\", \"b\\n\"])\n",
    "first = process(data)\n",
    "second = process(data)  # empty: iterator consumed\n",
    "print(\"first:\", first, \"second:\", second)"
   ]
  },
  {
   "cell_type": "markdown",
   "id": "da6cac21",
   "metadata": {},
   "source": [
    "### Exercise 13"
   ]
  },
  {
   "cell_type": "code",
   "execution_count": null,
   "id": "f0f643f0",
   "metadata": {},
   "outputs": [],
   "source": [
    "from dataclasses import dataclass\n",
    "\n",
    "@dataclass\n",
    "class Cart:\n",
    "    items: list = []   # shared across instances\n",
    "\n",
    "c1 = Cart()\n",
    "c2 = Cart()\n",
    "c1.items.append(\"x\")\n",
    "print(\"c2.items:\", c2.items)  # unexpected shared list"
   ]
  },
  {
   "cell_type": "markdown",
   "id": "3da97f77",
   "metadata": {},
   "source": [
    "### Exercise 14"
   ]
  },
  {
   "cell_type": "code",
   "execution_count": null,
   "id": "a997e2a8",
   "metadata": {},
   "outputs": [],
   "source": [
    "import os, logging\n",
    "API_KEY = \"sk_live_example_secret_value\"  # pretend secret\n",
    "\n",
    "def charge(amount_pennies):\n",
    "    try:\n",
    "        raise TimeoutError(\"simulated\")\n",
    "    except Exception as e:\n",
    "        logging.error(\"Charge failed for key=%s amount=%s err=%r\", API_KEY, amount_pennies, e)\n",
    "        return False\n",
    "\n",
    "print(\"Result:\", charge(1234))"
   ]
  },
  {
   "cell_type": "markdown",
   "id": "9812c07d",
   "metadata": {},
   "source": [
    "## Part 2: Solutions"
   ]
  },
  {
   "cell_type": "markdown",
   "id": "9552249b",
   "metadata": {},
   "source": [
    "### Solution 1"
   ]
  },
  {
   "cell_type": "code",
   "execution_count": null,
   "id": "a4fe8381",
   "metadata": {},
   "outputs": [],
   "source": [
    "def greet(name):\n",
    "    print(\"Hello,\", name)\n",
    "\n",
    "greet(\"Ada\")"
   ]
  },
  {
   "cell_type": "markdown",
   "id": "49d327f9",
   "metadata": {},
   "source": [
    "### Solution 2"
   ]
  },
  {
   "cell_type": "code",
   "execution_count": null,
   "id": "09ffa392",
   "metadata": {},
   "outputs": [],
   "source": [
    "def add_numbers(a, b):\n",
    "    return a + b\n",
    "\n",
    "print(add_numbers(2, 3))"
   ]
  },
  {
   "cell_type": "markdown",
   "id": "bf6213a9",
   "metadata": {},
   "source": [
    "### Solution 3"
   ]
  },
  {
   "cell_type": "code",
   "execution_count": null,
   "id": "8d57d98f",
   "metadata": {},
   "outputs": [],
   "source": [
    "age = \"25\"\n",
    "print(int(age) + 5)"
   ]
  },
  {
   "cell_type": "markdown",
   "id": "1749105b",
   "metadata": {},
   "source": [
    "### Solution 4"
   ]
  },
  {
   "cell_type": "code",
   "execution_count": null,
   "id": "3a5eefaf",
   "metadata": {},
   "outputs": [],
   "source": [
    "def is_even(n):\n",
    "    return n % 2 == 0\n",
    "\n",
    "print(\"2 is even?\", is_even(2))\n",
    "print(\"3 is even?\", is_even(3))"
   ]
  },
  {
   "cell_type": "markdown",
   "id": "574a39b4",
   "metadata": {},
   "source": [
    "### Solution 5"
   ]
  },
  {
   "cell_type": "code",
   "execution_count": null,
   "id": "be96d9d8",
   "metadata": {},
   "outputs": [],
   "source": [
    "def append_item(item, items=None):\n",
    "    if items is None:\n",
    "        items = []\n",
    "    items.append(item)\n",
    "    return items\n",
    "\n",
    "print(\"First call:\", append_item(\"a\"))\n",
    "print(\"Second call:\", append_item(\"b\"))"
   ]
  },
  {
   "cell_type": "markdown",
   "id": "5efe2d28",
   "metadata": {},
   "source": [
    "### Solution 6"
   ]
  },
  {
   "cell_type": "code",
   "execution_count": null,
   "id": "09d73719",
   "metadata": {},
   "outputs": [],
   "source": [
    "def read_config(path):\n",
    "    # Use context manager; mock parse step\n",
    "    with open(path, \"w\", encoding=\"utf-8\") as f:\n",
    "        f.write(\"key=value\")\n",
    "    with open(path, \"r\", encoding=\"utf-8\") as f:\n",
    "        content = f.read()\n",
    "    return {\"raw\": content}\n",
    "\n",
    "print(read_config(\"config.txt\"))"
   ]
  },
  {
   "cell_type": "markdown",
   "id": "4c12398a",
   "metadata": {},
   "source": [
    "### Solution 7"
   ]
  },
  {
   "cell_type": "code",
   "execution_count": null,
   "id": "5e85cb1a",
   "metadata": {},
   "outputs": [],
   "source": [
    "import csv\n",
    "def save_rows(path, rows):\n",
    "    with open(path, \"w\", newline=\"\", encoding=\"utf-8\") as f:\n",
    "        writer = csv.writer(f)\n",
    "        writer.writerows(rows)\n",
    "\n",
    "save_rows(\"out.csv\", [[\"naïve\", \"café\"], [\"a\", \"b\"]])\n",
    "print(\"Wrote out.csv (UTF-8, correct newlines).\")"
   ]
  },
  {
   "cell_type": "markdown",
   "id": "ee7e7144",
   "metadata": {},
   "source": [
    "### Solution 8"
   ]
  },
  {
   "cell_type": "code",
   "execution_count": null,
   "id": "d0e6a6f1",
   "metadata": {},
   "outputs": [],
   "source": [
    "import asyncio\n",
    "\n",
    "async def fetch(i):\n",
    "    await asyncio.sleep(0.1)\n",
    "    return i\n",
    "\n",
    "async def main():\n",
    "    tasks = [fetch(i) for i in range(5)]\n",
    "    results = await asyncio.gather(*tasks)\n",
    "    print(\"Results:\", results)\n",
    "\n",
    "asyncio.run(main())"
   ]
  },
  {
   "cell_type": "markdown",
   "id": "2c32ff7a",
   "metadata": {},
   "source": [
    "### Solution 9"
   ]
  },
  {
   "cell_type": "code",
   "execution_count": null,
   "id": "9dad1936",
   "metadata": {},
   "outputs": [],
   "source": [
    "import threading\n",
    "\n",
    "counter = 0\n",
    "lock = threading.Lock()\n",
    "\n",
    "def work(n):\n",
    "    global counter\n",
    "    for _ in range(n):\n",
    "        with lock:\n",
    "            counter += 1\n",
    "\n",
    "threads = [threading.Thread(target=work, args=(100_000,)) for _ in range(4)]\n",
    "for t in threads: t.start()\n",
    "for t in threads: t.join()\n",
    "print(\"Final counter:\", counter)"
   ]
  },
  {
   "cell_type": "markdown",
   "id": "54c81e27",
   "metadata": {},
   "source": [
    "### Solution 10"
   ]
  },
  {
   "cell_type": "code",
   "execution_count": null,
   "id": "93b7b671",
   "metadata": {},
   "outputs": [],
   "source": [
    "import sqlite3\n",
    "with sqlite3.connect(\":memory:\") as conn:\n",
    "    cur = conn.cursor()\n",
    "    cur.execute(\"CREATE TABLE users (id INT, name TEXT)\")\n",
    "    cur.execute(\"INSERT INTO users VALUES (?, ?)\", (1, \"O'Malley\"))\n",
    "    username = \"O'Malley\"\n",
    "    cur.execute(\"SELECT id, name FROM users WHERE name = ?\", (username,))\n",
    "    print(cur.fetchone())"
   ]
  },
  {
   "cell_type": "markdown",
   "id": "cec52789",
   "metadata": {},
   "source": [
    "### Solution 11"
   ]
  },
  {
   "cell_type": "code",
   "execution_count": null,
   "id": "75d270de",
   "metadata": {},
   "outputs": [],
   "source": [
    "from datetime import datetime, timedelta\n",
    "from zoneinfo import ZoneInfo\n",
    "\n",
    "tz = ZoneInfo(\"Europe/London\")\n",
    "start = datetime.now(tz)\n",
    "end = start + timedelta(hours=24)\n",
    "print(\"Aware diff seconds:\", (end - start).total_seconds())"
   ]
  },
  {
   "cell_type": "markdown",
   "id": "7ab1a3fd",
   "metadata": {},
   "source": [
    "### Solution 12"
   ]
  },
  {
   "cell_type": "code",
   "execution_count": null,
   "id": "03acbd69",
   "metadata": {},
   "outputs": [],
   "source": [
    "def process(lines):\n",
    "    return [s.strip() for s in lines if s.strip()]\n",
    "\n",
    "data_source = [\"a\\n\", \"\\n\", \"b\\n\"]\n",
    "first = process(data_source)\n",
    "second = process(data_source)  # works since we pass a reusable sequence\n",
    "print(\"first:\", first, \"second:\", second)"
   ]
  },
  {
   "cell_type": "markdown",
   "id": "ba6ea869",
   "metadata": {},
   "source": [
    "### Solution 13"
   ]
  },
  {
   "cell_type": "code",
   "execution_count": null,
   "id": "1788d0ba",
   "metadata": {},
   "outputs": [],
   "source": [
    "from dataclasses import dataclass, field\n",
    "\n",
    "@dataclass\n",
    "class Cart:\n",
    "    items: list = field(default_factory=list)\n",
    "\n",
    "c1 = Cart()\n",
    "c2 = Cart()\n",
    "c1.items.append(\"x\")\n",
    "print(\"c2.items:\", c2.items)"
   ]
  },
  {
   "cell_type": "markdown",
   "id": "5061143c",
   "metadata": {},
   "source": [
    "### Solution 14"
   ]
  },
  {
   "cell_type": "code",
   "execution_count": null,
   "id": "5ac4e6e9",
   "metadata": {},
   "outputs": [],
   "source": [
    "import logging\n",
    "\n",
    "def charge(amount_pennies):\n",
    "    try:\n",
    "        raise TimeoutError(\"simulated\")\n",
    "    except TimeoutError as e:\n",
    "        # No secrets in logs; catch specific exception\n",
    "        logging.error(\"Charge failed amount=%s err=%s\", amount_pennies, e)\n",
    "        return False\n",
    "\n",
    "print(\"Result:\", charge(1234))"
   ]
  }
 ],
 "metadata": {},
 "nbformat": 4,
 "nbformat_minor": 5
}
