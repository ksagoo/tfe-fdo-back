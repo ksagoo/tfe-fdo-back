{
 "cells": [
  {
   "cell_type": "markdown",
   "id": "50416b92",
   "metadata": {},
   "source": [
    "# Bonus Round\n",
    "Part 1: Exercises (buggy)\n",
    "Part 2: Solutions"
   ]
  },
  {
   "cell_type": "markdown",
   "id": "51604fd9",
   "metadata": {},
   "source": [
    "# Bonus Round: Exercises\n",
    "Debug the following advanced snippets."
   ]
  },
  {
   "cell_type": "markdown",
   "id": "7f40055b",
   "metadata": {},
   "source": [
    "## Exercise 1"
   ]
  },
  {
   "cell_type": "code",
   "execution_count": null,
   "id": "1bafebe9",
   "metadata": {},
   "outputs": [],
   "source": [
    "def read_config(path):\n",
    "    f = open(path)            # file may leak if parse() raises\n",
    "    data = parse(f.read())    # assume parse may raise NameError here\n",
    "    f.close()\n",
    "    return data\n",
    "\n",
    "# Run to see the problem (parse is undefined, and file isn't closed safely)\n",
    "try:\n",
    "    read_config(\"config.txt\")\n",
    "except Exception as e:\n",
    "    print(type(e).__name__, e)"
   ]
  },
  {
   "cell_type": "markdown",
   "id": "0edf026e",
   "metadata": {},
   "source": [
    "## Exercise 2"
   ]
  },
  {
   "cell_type": "code",
   "execution_count": null,
   "id": "4bcef49b",
   "metadata": {},
   "outputs": [],
   "source": [
    "import csv\n",
    "\n",
    "def save_rows(path, rows):\n",
    "    f = open(path, \"w\")  # missing newline and encoding and context manager\n",
    "    writer = csv.writer(f)\n",
    "    for r in rows:\n",
    "        writer.writerow(r)\n",
    "    f.close()\n",
    "\n",
    "save_rows(\"out.csv\", [[\"naïve\", \"café\"], [\"a\", \"b\"]])\n",
    "print(\"Wrote out.csv — check for blank lines on Windows and encoding issues.\")"
   ]
  },
  {
   "cell_type": "markdown",
   "id": "6aff072d",
   "metadata": {},
   "source": [
    "## Exercise 3"
   ]
  },
  {
   "cell_type": "code",
   "execution_count": null,
   "id": "325b9796",
   "metadata": {},
   "outputs": [],
   "source": [
    "import asyncio, time\n",
    "\n",
    "async def fetch(i):\n",
    "    time.sleep(0.1)  # blocks event loop\n",
    "    return i\n",
    "\n",
    "async def main():\n",
    "    tasks = [fetch(i) for i in range(5)]\n",
    "    results = asyncio.gather(*tasks)  # not awaited\n",
    "    print(\"Finished? (but tasks may not have run)\")\n",
    "    return results\n",
    "\n",
    "try:\n",
    "    asyncio.run(main())\n",
    "except Exception as e:\n",
    "    print(type(e).__name__, e)"
   ]
  },
  {
   "cell_type": "markdown",
   "id": "f822cb62",
   "metadata": {},
   "source": [
    "## Exercise 4"
   ]
  },
  {
   "cell_type": "code",
   "execution_count": null,
   "id": "69bf891a",
   "metadata": {},
   "outputs": [],
   "source": [
    "import threading\n",
    "\n",
    "counter = 0\n",
    "\n",
    "def work(n):\n",
    "    global counter\n",
    "    for _ in range(n):\n",
    "        counter += 1  # data race\n",
    "\n",
    "threads = [threading.Thread(target=work, args=(100_000,)) for _ in range(4)]\n",
    "for t in threads: t.start()\n",
    "for t in threads: t.join()\n",
    "print(\"Final counter:\", counter, \"Expected:\", 400_000)"
   ]
  },
  {
   "cell_type": "markdown",
   "id": "4dd4b6c0",
   "metadata": {},
   "source": [
    "## Exercise 5"
   ]
  },
  {
   "cell_type": "code",
   "execution_count": null,
   "id": "b827b9fd",
   "metadata": {},
   "outputs": [],
   "source": [
    "import sqlite3\n",
    "conn = sqlite3.connect(\":memory:\")\n",
    "cur = conn.cursor()\n",
    "cur.execute(\"CREATE TABLE users (id INT, name TEXT)\")\n",
    "cur.execute(\"INSERT INTO users VALUES (1, 'O\\'Malley')\")\n",
    "\n",
    "username = \"O'Malley\"\n",
    "query = f\"SELECT id, name FROM users WHERE name = '{username}'\"\n",
    "print(\"Running:\", query)  # will break on quotes and is injectable\n",
    "try:\n",
    "    cur.execute(query)\n",
    "    print(cur.fetchone())\n",
    "except Exception as e:\n",
    "    print(type(e).__name__, e)"
   ]
  },
  {
   "cell_type": "markdown",
   "id": "3f74b6d1",
   "metadata": {},
   "source": [
    "## Exercise 6"
   ]
  },
  {
   "cell_type": "code",
   "execution_count": null,
   "id": "894a3efb",
   "metadata": {},
   "outputs": [],
   "source": [
    "from datetime import datetime, timedelta\n",
    "\n",
    "start = datetime.now()              # naive\n",
    "end = start + timedelta(hours=24)\n",
    "print(\"Seconds diff:\", (end - start).total_seconds())  # assume 86400; may be wrong over DST"
   ]
  },
  {
   "cell_type": "markdown",
   "id": "d355b2f0",
   "metadata": {},
   "source": [
    "## Exercise 7"
   ]
  },
  {
   "cell_type": "code",
   "execution_count": null,
   "id": "6e9d9aad",
   "metadata": {},
   "outputs": [],
   "source": [
    "def process(lines_iter):\n",
    "    return [s.strip() for s in lines_iter if s.strip()]\n",
    "\n",
    "data = iter([\"a\\n\", \"\\n\", \"b\\n\"])\n",
    "first = process(data)\n",
    "second = process(data)  # empty: iterator already consumed\n",
    "print(\"first:\", first, \"second:\", second)"
   ]
  },
  {
   "cell_type": "markdown",
   "id": "e9f38780",
   "metadata": {},
   "source": [
    "## Exercise 8"
   ]
  },
  {
   "cell_type": "code",
   "execution_count": null,
   "id": "31ccb3af",
   "metadata": {},
   "outputs": [],
   "source": [
    "from dataclasses import dataclass\n",
    "\n",
    "@dataclass\n",
    "class Cart:\n",
    "    items: list = []   # shared across instances\n",
    "\n",
    "c1 = Cart()\n",
    "c2 = Cart()\n",
    "c1.items.append(\"x\")\n",
    "print(\"c2.items:\", c2.items)  # unexpected shared list"
   ]
  },
  {
   "cell_type": "markdown",
   "id": "3800bb01",
   "metadata": {},
   "source": [
    "## Exercise 9"
   ]
  },
  {
   "cell_type": "code",
   "execution_count": null,
   "id": "053413f3",
   "metadata": {},
   "outputs": [],
   "source": [
    "import os, logging\n",
    "API_KEY = \"sk_live_example_secret_value\"  # pretend secret\n",
    "\n",
    "def charge(amount_pennies):\n",
    "    try:\n",
    "        raise TimeoutError(\"simulated\")\n",
    "    except Exception as e:\n",
    "        logging.error(\"Charge failed for key=%s amount=%s err=%r\", API_KEY, amount_pennies, e)\n",
    "        return False\n",
    "\n",
    "print(\"Result:\", charge(1234))"
   ]
  },
  {
   "cell_type": "markdown",
   "id": "17cd7d83",
   "metadata": {},
   "source": [
    "# Part 2: Solutions\n",
    "Scroll only when reviewing."
   ]
  },
  {
   "cell_type": "markdown",
   "id": "27307b76",
   "metadata": {},
   "source": [
    "## Solution 1"
   ]
  },
  {
   "cell_type": "code",
   "execution_count": null,
   "id": "683a5667",
   "metadata": {},
   "outputs": [],
   "source": [
    "def read_config(path):\n",
    "    # Use context manager; handle missing parse gracefully for demo\n",
    "    with open(path) as f:\n",
    "        content = f.read()\n",
    "    # Example 'parse' replacement\n",
    "    return {\"raw\": content}\n",
    "\n",
    "# Create a demo file and read it\n",
    "with open(\"config.txt\", \"w\", encoding=\"utf-8\") as f:\n",
    "    f.write(\"key=value\")\n",
    "print(read_config(\"config.txt\"))"
   ]
  },
  {
   "cell_type": "markdown",
   "id": "ef39eb9a",
   "metadata": {},
   "source": [
    "## Solution 2"
   ]
  },
  {
   "cell_type": "code",
   "execution_count": null,
   "id": "ab883957",
   "metadata": {},
   "outputs": [],
   "source": [
    "import csv\n",
    "def save_rows(path, rows):\n",
    "    with open(path, \"w\", newline=\"\", encoding=\"utf-8\") as f:\n",
    "        writer = csv.writer(f)\n",
    "        writer.writerows(rows)\n",
    "\n",
    "save_rows(\"out.csv\", [[\"naïve\", \"café\"], [\"a\", \"b\"]])\n",
    "print(\"Wrote out.csv (UTF-8, correct newlines).\")"
   ]
  },
  {
   "cell_type": "markdown",
   "id": "bde6046a",
   "metadata": {},
   "source": [
    "## Solution 3"
   ]
  },
  {
   "cell_type": "code",
   "execution_count": null,
   "id": "ec05a06b",
   "metadata": {},
   "outputs": [],
   "source": [
    "import asyncio\n",
    "\n",
    "async def fetch(i):\n",
    "    await asyncio.sleep(0.1)\n",
    "    return i\n",
    "\n",
    "async def main():\n",
    "    tasks = [fetch(i) for i in range(5)]\n",
    "    results = await asyncio.gather(*tasks)\n",
    "    print(\"Results:\", results)\n",
    "\n",
    "asyncio.run(main())"
   ]
  },
  {
   "cell_type": "markdown",
   "id": "bbee5697",
   "metadata": {},
   "source": [
    "## Solution 4"
   ]
  },
  {
   "cell_type": "code",
   "execution_count": null,
   "id": "f278c50e",
   "metadata": {},
   "outputs": [],
   "source": [
    "import threading\n",
    "\n",
    "counter = 0\n",
    "lock = threading.Lock()\n",
    "\n",
    "def work(n):\n",
    "    global counter\n",
    "    for _ in range(n):\n",
    "        with lock:\n",
    "            counter += 1\n",
    "\n",
    "threads = [threading.Thread(target=work, args=(100_000,)) for _ in range(4)]\n",
    "for t in threads: t.start()\n",
    "for t in threads: t.join()\n",
    "print(\"Final counter:\", counter)"
   ]
  },
  {
   "cell_type": "markdown",
   "id": "d0a34bfe",
   "metadata": {},
   "source": [
    "## Solution 5"
   ]
  },
  {
   "cell_type": "code",
   "execution_count": null,
   "id": "be7aa813",
   "metadata": {},
   "outputs": [],
   "source": [
    "import sqlite3\n",
    "with sqlite3.connect(\":memory:\") as conn:\n",
    "    cur = conn.cursor()\n",
    "    cur.execute(\"CREATE TABLE users (id INT, name TEXT)\")\n",
    "    cur.execute(\"INSERT INTO users VALUES (?, ?)\", (1, \"O'Malley\"))\n",
    "    username = \"O'Malley\"\n",
    "    cur.execute(\"SELECT id, name FROM users WHERE name = ?\", (username,))\n",
    "    print(cur.fetchone())"
   ]
  },
  {
   "cell_type": "markdown",
   "id": "95294642",
   "metadata": {},
   "source": [
    "## Solution 6"
   ]
  },
  {
   "cell_type": "code",
   "execution_count": null,
   "id": "c6fbf55c",
   "metadata": {},
   "outputs": [],
   "source": [
    "from datetime import datetime, timedelta\n",
    "from zoneinfo import ZoneInfo\n",
    "\n",
    "tz = ZoneInfo(\"Europe/London\")\n",
    "start = datetime.now(tz)\n",
    "end = start + timedelta(hours=24)\n",
    "print(\"Aware diff seconds:\", (end - start).total_seconds(), \"(DST-safe in this context)\")"
   ]
  },
  {
   "cell_type": "markdown",
   "id": "55c3562f",
   "metadata": {},
   "source": [
    "## Solution 7"
   ]
  },
  {
   "cell_type": "code",
   "execution_count": null,
   "id": "967c9e31",
   "metadata": {},
   "outputs": [],
   "source": [
    "def process(lines):\n",
    "    return [s.strip() for s in lines if s.strip()]\n",
    "\n",
    "data_source = [\"a\\n\", \"\\n\", \"b\\n\"]\n",
    "first = process(data_source)\n",
    "second = process(data_source)  # works because we pass a sequence (reusable), not an iterator\n",
    "print(\"first:\", first, \"second:\", second)"
   ]
  },
  {
   "cell_type": "markdown",
   "id": "62a51ab6",
   "metadata": {},
   "source": [
    "## Solution 8"
   ]
  },
  {
   "cell_type": "code",
   "execution_count": null,
   "id": "8408e191",
   "metadata": {},
   "outputs": [],
   "source": [
    "from dataclasses import dataclass, field\n",
    "\n",
    "@dataclass\n",
    "class Cart:\n",
    "    items: list = field(default_factory=list)\n",
    "\n",
    "c1 = Cart()\n",
    "c2 = Cart()\n",
    "c1.items.append(\"x\")\n",
    "print(\"c2.items:\", c2.items)  # now []"
   ]
  },
  {
   "cell_type": "markdown",
   "id": "9c5c6993",
   "metadata": {},
   "source": [
    "## Solution 9"
   ]
  },
  {
   "cell_type": "code",
   "execution_count": null,
   "id": "ced28471",
   "metadata": {},
   "outputs": [],
   "source": [
    "import logging\n",
    "\n",
    "def charge(amount_pennies):\n",
    "    try:\n",
    "        raise TimeoutError(\"simulated\")\n",
    "    except TimeoutError as e:\n",
    "        # Do not log secrets; minimal context\n",
    "        logging.error(\"Charge failed for amount=%s; err=%s\", amount_pennies, e)\n",
    "        return False\n",
    "\n",
    "print(\"Result:\", charge(1234))"
   ]
  }
 ],
 "metadata": {},
 "nbformat": 4,
 "nbformat_minor": 5
}
